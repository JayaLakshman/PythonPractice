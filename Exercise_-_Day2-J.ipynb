{
 "cells": [
  {
   "cell_type": "markdown",
   "metadata": {},
   "source": [
    "### The questions for the exercises are given above the cells and the expected output is given below the cell. Please type the code inserting a new cell below the question because if you run the expected output cell the output would vanish! Happy learning! "
   ]
  },
  {
   "cell_type": "markdown",
   "metadata": {},
   "source": [
    "## 1. Write a Python program to find those numbers which are divisible by 7 and multiple of 5, between 1500 and 2700 (both included). "
   ]
  },
  {
   "cell_type": "code",
   "execution_count": 10,
   "metadata": {},
   "outputs": [
    {
     "name": "stdout",
     "output_type": "stream",
     "text": [
      "1505,1540,1575,1610,1645,1680,1715,1750,1785,1820,1855,1890,1925,1960,1995,2030,2065,2100,2135,2170,2205,2240,2275,2310,2345,2380,2415,2450,2485,2520,2555,2590,2625,2660,2695\n"
     ]
    }
   ],
   "source": [
    "#initializing empty list\n",
    "lst = []\n",
    "# loop with range including 1500 and 2700\n",
    "for i in range(1500,2701):\n",
    "    # numbers divisible by 7 and multiple of 5\n",
    "    if(i%7 == 0 and i%5 == 0):\n",
    "        lst.append(i)\n",
    "        i = i+1 \n",
    "# printing list elements separated by comma\n",
    "print(*lst, sep = \",\") \n"
   ]
  },
  {
   "cell_type": "markdown",
   "metadata": {},
   "source": [
    "## 2. Write a Python program to construct the following pattern, using a nested for loop.\n"
   ]
  },
  {
   "cell_type": "code",
   "execution_count": 5,
   "metadata": {},
   "outputs": [
    {
     "name": "stdout",
     "output_type": "stream",
     "text": [
      "*\n",
      "* *\n",
      "* * *\n",
      "* * * *\n",
      "* * * * *\n",
      "* * * *\n",
      "* * *\n",
      "* *\n",
      "*\n"
     ]
    }
   ],
   "source": [
    "#initializing empty list\n",
    "lst = []\n",
    "# loop for appending  5 and them removing * character\n",
    "for i in range(0,9):\n",
    "    if i < 5:\n",
    "        lst.append('*')\n",
    "        i = i+1 \n",
    "        # using * to unpack list\n",
    "        print(*lst)\n",
    "    elif i <= 8:\n",
    "        lst.remove('*')\n",
    "        i = i+1\n",
    "        print(*lst) "
   ]
  },
  {
   "cell_type": "markdown",
   "metadata": {},
   "source": [
    "## 3. Write a Python program to count the number of even and odd numbers from a series of numbers."
   ]
  },
  {
   "cell_type": "code",
   "execution_count": 7,
   "metadata": {},
   "outputs": [
    {
     "name": "stdout",
     "output_type": "stream",
     "text": [
      "Number of even numbers : 4\n",
      "Number of odd numbers : 5\n"
     ]
    }
   ],
   "source": [
    "s = (1,2,3,4,5,6,7,8,9)\n",
    "odd = 0\n",
    "even = 0\n",
    "for i in s:\n",
    "    if i%2 == 0:\n",
    "        even = even + 1\n",
    "    else:\n",
    "        odd = odd + 1\n",
    "print(\"Number of even numbers :\", even)\n",
    "print(\"Number of odd numbers :\", odd)\n"
   ]
  },
  {
   "cell_type": "markdown",
   "metadata": {},
   "source": [
    "## 4. Write a Python program to find numbers between 100 and 400 (both included) where each digit of a number is an even number. The numbers obtained should be printed in a comma-separated sequence."
   ]
  },
  {
   "cell_type": "code",
   "execution_count": 9,
   "metadata": {},
   "outputs": [
    {
     "name": "stdout",
     "output_type": "stream",
     "text": [
      "200,202,204,206,208,220,222,224,226,228,240,242,244,246,248,260,262,264,266,268,280,282,284,286,288,400\n"
     ]
    }
   ],
   "source": [
    "#initializing empty list\n",
    "lst = []\n",
    "# loop with range including 100 and 400\n",
    "for i in range(100,401):\n",
    "    j = str(i)\n",
    "    # each digit divisible by 2\n",
    "    if (int(j[0])%2==0) and (int(j[1])%2==0) and (int(j[2])%2==0):\n",
    "        lst.append(i)\n",
    "    i = i + 1\n",
    "#printing list elements separated by comma\n",
    "print( * lst, sep = \",\")"
   ]
  },
  {
   "cell_type": "markdown",
   "metadata": {},
   "source": [
    "## 5. Write a Python program to calculate a dog's age in dog's years. Go to the editor\n",
    "Note: For the first two years, a dog year is equal to 10.5 human years. After that, each dog year equals 4 human years."
   ]
  },
  {
   "cell_type": "code",
   "execution_count": 11,
   "metadata": {},
   "outputs": [
    {
     "name": "stdout",
     "output_type": "stream",
     "text": [
      "Input a dog's age in human years: 20\n",
      "The dog's age in dog's years is  93\n"
     ]
    }
   ],
   "source": [
    "age = int(input(\"Input a dog's age in human years: \"))\n",
    "if age <=2:\n",
    "    d = 10.5 * age   \n",
    "else:\n",
    "    d = (10.5 * 2) + ((age -2)*4)\n",
    "print(\"The dog's age in dog's years is \",int(d))"
   ]
  },
  {
   "cell_type": "markdown",
   "metadata": {},
   "source": [
    "## 6. Write a Python function to find the Max of three numbers."
   ]
  },
  {
   "cell_type": "code",
   "execution_count": 42,
   "metadata": {},
   "outputs": [
    {
     "name": "stdout",
     "output_type": "stream",
     "text": [
      "Input first number: 3\n",
      "Input second number: 6\n",
      "Input third number: -5\n"
     ]
    },
    {
     "data": {
      "text/plain": [
       "6"
      ]
     },
     "execution_count": 42,
     "metadata": {},
     "output_type": "execute_result"
    }
   ],
   "source": [
    "def max14():\n",
    "    \"\"\"This function will find the maximum of three numbers\"\"\"\n",
    "    a = int(input(\"Input first number: \"))\n",
    "    b = int(input(\"Input second number: \"))\n",
    "    c = int(input(\"Input third number: \"))\n",
    "    if a > b and a > c:\n",
    "        maximum = a\n",
    "    elif b > a and b > c:\n",
    "        maximum = b\n",
    "    else:\n",
    "        maximum = c\n",
    "    return maximum\n",
    "\n",
    "max14()"
   ]
  },
  {
   "cell_type": "code",
   "execution_count": null,
   "metadata": {},
   "outputs": [],
   "source": []
  },
  {
   "cell_type": "markdown",
   "metadata": {},
   "source": [
    "## 7. Write a Python function that takes a number as a parameter and check the number is prime or not."
   ]
  },
  {
   "cell_type": "code",
   "execution_count": 49,
   "metadata": {},
   "outputs": [
    {
     "name": "stdout",
     "output_type": "stream",
     "text": [
      "The number is: 9\n"
     ]
    },
    {
     "data": {
      "text/plain": [
       "False"
      ]
     },
     "execution_count": 49,
     "metadata": {},
     "output_type": "execute_result"
    }
   ],
   "source": [
    "def isprime(num):\n",
    "    '''This function is to find a prime number'''\n",
    "    print(\"The number is:\", num)\n",
    "    if num > 1:\n",
    "        for i in range(2,num):\n",
    "            if (num % i) == 0:\n",
    "                return False\n",
    "                break\n",
    "        else :\n",
    "            return True\n",
    "            i= i + 1\n",
    "    else :\n",
    "        return False\n",
    "\n",
    "isprime(9)"
   ]
  },
  {
   "cell_type": "markdown",
   "metadata": {},
   "source": [
    "## 8. Write a Python function that accepts a string and calculate the number of upper case letters and lower case letters. Go to the editor\n"
   ]
  },
  {
   "cell_type": "code",
   "execution_count": 43,
   "metadata": {},
   "outputs": [
    {
     "name": "stdout",
     "output_type": "stream",
     "text": [
      "Original String :  Inceptz is One of The BeSt Places TO LEarn DataSciEnce\n",
      "No. of Upper case characters :  13\n",
      "No. of Lower case Characters :  32\n"
     ]
    }
   ],
   "source": [
    "def count_case(word):\n",
    "    upper = 0\n",
    "    lower = 0\n",
    "    for i in word:\n",
    "        if i.isupper():\n",
    "            upper = upper + 1\n",
    "        elif i.islower():\n",
    "            lower = lower +1    \n",
    "    print (\"Original String : \", word)\n",
    "    print (\"No. of Upper case characters : \", upper)\n",
    "    print (\"No. of Lower case Characters : \", lower)\n",
    "\n",
    "count_case(\"Inceptz is One of The BeSt Places TO LEarn DataSciEnce\")"
   ]
  },
  {
   "cell_type": "markdown",
   "metadata": {},
   "source": [
    "## 9. Write a Python program to reverse a string. "
   ]
  },
  {
   "cell_type": "code",
   "execution_count": 46,
   "metadata": {},
   "outputs": [
    {
     "name": "stdout",
     "output_type": "stream",
     "text": [
      "The original string is: 1234abcd\n",
      "The reversed string: dcba4321\n"
     ]
    }
   ],
   "source": [
    "def rev_str(word):\n",
    "    rev_str = word[::-1]\n",
    "    print(\"The original string is:\", word)\n",
    "    print(\"The reversed string:\", rev_str)\n",
    "rev_str('1234abcd')"
   ]
  },
  {
   "cell_type": "markdown",
   "metadata": {},
   "source": [
    "## 10. Write a Python program to find  the greatest common divisor (gcd) of two integers."
   ]
  },
  {
   "cell_type": "code",
   "execution_count": 51,
   "metadata": {},
   "outputs": [
    {
     "name": "stdout",
     "output_type": "stream",
     "text": [
      "The two numbers are: (12, 14)\n",
      "The GCD of the numbers are: 2\n"
     ]
    }
   ],
   "source": [
    "def gcd(a,b):\n",
    "    print(\"The two numbers are:\", (a,b))\n",
    "    c = min(a,b)\n",
    "    for i in range(1, c+1):\n",
    "        if((a % i == 0) and (b % i == 0)):\n",
    "            x = i\n",
    "    return x\n",
    "print(\"The GCD of the numbers are:\",gcd(12,14))"
   ]
  },
  {
   "cell_type": "code",
   "execution_count": null,
   "metadata": {},
   "outputs": [],
   "source": []
  }
 ],
 "metadata": {
  "kernelspec": {
   "display_name": "Python 3",
   "language": "python",
   "name": "python3"
  },
  "language_info": {
   "codemirror_mode": {
    "name": "ipython",
    "version": 3
   },
   "file_extension": ".py",
   "mimetype": "text/x-python",
   "name": "python",
   "nbconvert_exporter": "python",
   "pygments_lexer": "ipython3",
   "version": "3.7.6"
  }
 },
 "nbformat": 4,
 "nbformat_minor": 4
}
